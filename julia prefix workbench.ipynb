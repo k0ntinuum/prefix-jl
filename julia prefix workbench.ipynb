{
 "cells": [
  {
   "cell_type": "code",
   "execution_count": 217,
   "id": "fd5cde60",
   "metadata": {},
   "outputs": [
    {
     "data": {
      "text/plain": [
       "4-element Vector{Vector{Vector{Int64}}}:\n",
       " [[1, 1], [1, 0]]\n",
       " [[0], [1]]\n",
       " [[0], [1, 1]]\n",
       " [[0, 0], [0, 1]]"
      ]
     },
     "execution_count": 217,
     "metadata": {},
     "output_type": "execute_result"
    }
   ],
   "source": [
    "using Printf\n",
    "const word = Array{Int64}\n",
    "  \n",
    "goes = [ \n",
    "    [1,4],\n",
    "    [3,2],\n",
    "    [1,3],\n",
    "    [4,2], \n",
    "]\n",
    "\n",
    "writes = \n",
    "[ \n",
    "    [[1,1],[1,0]],\n",
    "    [[0],[1]],\n",
    "    [[0],[1,1]],\n",
    "    [[0,0],[0,1]],\n",
    "]\n"
   ]
  },
  {
   "cell_type": "code",
   "execution_count": 232,
   "id": "4d5cf047",
   "metadata": {},
   "outputs": [
    {
     "data": {
      "text/plain": [
       "as_string (generic function with 1 method)"
      ]
     },
     "execution_count": 232,
     "metadata": {},
     "output_type": "execute_result"
    }
   ],
   "source": [
    "function as_string(v)\n",
    "    s = \"\"\n",
    "    for i in eachindex(v)\n",
    "        s *= alph[v[i] + 1]\n",
    "    end\n",
    "    s\n",
    "end"
   ]
  },
  {
   "cell_type": "code",
   "execution_count": 261,
   "id": "d506a7c2",
   "metadata": {},
   "outputs": [
    {
     "data": {
      "text/plain": [
       "print_key_f (generic function with 1 method)"
      ]
     },
     "execution_count": 261,
     "metadata": {},
     "output_type": "execute_result"
    }
   ],
   "source": [
    " function print_key(writes, goes)\n",
    "    for i in eachindex(goes)\n",
    "        for j in eachindex(goes[i])\n",
    "            @printf(\"%2d  %2d  %-4s %2d  \\n\", i - 1,j - 1,as_string(writes[i][j]) ,goes[i][j] - 1)\n",
    "        end\n",
    "        print('\\n')\n",
    "    end\n",
    "end\n",
    "\n",
    " function print_key_brief(writes, goes)\n",
    "    for i in eachindex(goes)\n",
    "        for j in eachindex(goes[i])\n",
    "            @printf(\"%-s %2d  \\n\",as_string(writes[i][j]) ,goes[i][j] - 1)\n",
    "        end\n",
    "        print('\\n')\n",
    "    end\n",
    "end\n",
    "\n",
    " function print_key_f(writes, goes)\n",
    "    for i in eachindex(goes)\n",
    "        for j in eachindex(goes[i])\n",
    "            @printf(\"f  %2d  %-2d     =     %-5s%3d  \\n\",\n",
    "                i - 1,j - 1,as_string(writes[i][j]) ,goes[i][j] - 1)\n",
    "        end\n",
    "        print('\\n')\n",
    "    end\n",
    "end"
   ]
  },
  {
   "cell_type": "code",
   "execution_count": 233,
   "id": "2c11a057",
   "metadata": {},
   "outputs": [
    {
     "data": {
      "text/plain": [
       "\"O|\""
      ]
     },
     "execution_count": 233,
     "metadata": {},
     "output_type": "execute_result"
    }
   ],
   "source": [
    "as_string([0,1])"
   ]
  },
  {
   "cell_type": "code",
   "execution_count": 200,
   "id": "e4055ccc",
   "metadata": {},
   "outputs": [
    {
     "data": {
      "text/plain": [
       "print_vec (generic function with 1 method)"
      ]
     },
     "execution_count": 200,
     "metadata": {},
     "output_type": "execute_result"
    }
   ],
   "source": [
    "alph = ['O','|']\n",
    "function print_vec(v)\n",
    "    for i in eachindex(v)\n",
    "        print(alph[v[i] + 1])\n",
    "    end\n",
    "    print('\\n')\n",
    "end"
   ]
  },
  {
   "cell_type": "code",
   "execution_count": 262,
   "id": "07b7f920",
   "metadata": {},
   "outputs": [
    {
     "name": "stdout",
     "output_type": "stream",
     "text": [
      "f   0  0      =     ||     0  \n",
      "f   0  1      =     |O     3  \n",
      "\n",
      "f   1  0      =     O      2  \n",
      "f   1  1      =     |      1  \n",
      "\n",
      "f   2  0      =     O      0  \n",
      "f   2  1      =     ||     2  \n",
      "\n",
      "f   3  0      =     OO     3  \n",
      "f   3  1      =     O|     1  \n",
      "\n"
     ]
    }
   ],
   "source": [
    "print_key_f(writes,goes)"
   ]
  },
  {
   "cell_type": "code",
   "execution_count": 202,
   "id": "1422953f",
   "metadata": {},
   "outputs": [
    {
     "data": {
      "text/plain": [
       "prefix (generic function with 1 method)"
      ]
     },
     "execution_count": 202,
     "metadata": {},
     "output_type": "execute_result"
    }
   ],
   "source": [
    "function prefix(p :: word, q :: word)\n",
    "    if length(q) < length(p) return false end\n",
    "    for i in eachindex(p)\n",
    "        if p[i] != q[i] return false end\n",
    "    end\n",
    "    true\n",
    "end\n",
    "            "
   ]
  },
  {
   "cell_type": "code",
   "execution_count": 203,
   "id": "e5860125",
   "metadata": {},
   "outputs": [
    {
     "data": {
      "text/plain": [
       "encode (generic function with 1 method)"
      ]
     },
     "execution_count": 203,
     "metadata": {},
     "output_type": "execute_result"
    }
   ],
   "source": [
    "function encode(p)\n",
    "    c :: word = []\n",
    "    m = 1\n",
    "    for i in eachindex(p)\n",
    "        append!(c,writes[m][p[i]+1])\n",
    "        m = goes[m][p[i]+1]\n",
    "    end\n",
    "    c\n",
    "end\n",
    "        "
   ]
  },
  {
   "cell_type": "code",
   "execution_count": 204,
   "id": "1f2f59c6",
   "metadata": {},
   "outputs": [
    {
     "data": {
      "text/plain": [
       "decode (generic function with 1 method)"
      ]
     },
     "execution_count": 204,
     "metadata": {},
     "output_type": "execute_result"
    }
   ],
   "source": [
    "function inverted_prefix(c,m)\n",
    "    for j in eachindex(writes[m])\n",
    "        if prefix(writes[m][j],c)\n",
    "            return (j - 1, goes[m][j], length(writes[m][j]))\n",
    "        end\n",
    "    end\n",
    "    throw(\"failed to find prefix\")\n",
    "end\n",
    "    \n",
    "function decode(c)\n",
    "    p :: word = []\n",
    "    m = 1\n",
    "    i = 1\n",
    "    while i <= length(c)\n",
    "        (j,m,l) = inverted_prefix(c[i:end],m)\n",
    "        append!(p,j)\n",
    "        i += l\n",
    "    end\n",
    "    p\n",
    "end\n",
    "            \n",
    "        \n"
   ]
  },
  {
   "cell_type": "code",
   "execution_count": 205,
   "id": "551dd3d0",
   "metadata": {},
   "outputs": [
    {
     "data": {
      "text/plain": [
       "true"
      ]
     },
     "execution_count": 205,
     "metadata": {},
     "output_type": "execute_result"
    }
   ],
   "source": [
    "p = rand([0,1],80)\n",
    "p ==  decode(encode(p))"
   ]
  },
  {
   "cell_type": "code",
   "execution_count": 206,
   "id": "0065f6a5",
   "metadata": {},
   "outputs": [
    {
     "data": {
      "text/plain": [
       "2"
      ]
     },
     "execution_count": 206,
     "metadata": {},
     "output_type": "execute_result"
    }
   ],
   "source": [
    "goes[4][2]"
   ]
  },
  {
   "cell_type": "code",
   "execution_count": 207,
   "id": "a1585edc",
   "metadata": {},
   "outputs": [
    {
     "data": {
      "text/plain": [
       "2"
      ]
     },
     "execution_count": 207,
     "metadata": {},
     "output_type": "execute_result"
    }
   ],
   "source": [
    "a"
   ]
  },
  {
   "cell_type": "code",
   "execution_count": 263,
   "id": "9e533961",
   "metadata": {},
   "outputs": [
    {
     "name": "stdout",
     "output_type": "stream",
     "text": [
      "OO||||||||O|||||OOO||||\n",
      "|||||OO|||||||O||||||||||O|||||OO|||\n",
      "OO||||||||O|||||OOO||||\n"
     ]
    }
   ],
   "source": [
    "p = rand([0,1],23)\n",
    "c = encode(p)\n",
    "d= decode(c)\n",
    "print_vec(p)\n",
    "print_vec(c)\n",
    "print_vec(d)"
   ]
  },
  {
   "cell_type": "code",
   "execution_count": 209,
   "id": "8015877f",
   "metadata": {},
   "outputs": [
    {
     "ename": "LoadError",
     "evalue": "\"error\"",
     "output_type": "error",
     "traceback": [
      "\"error\"",
      "",
      "Stacktrace:",
      " [1] top-level scope",
      "   @ In[209]:1"
     ]
    }
   ],
   "source": [
    "throw(\"error\")"
   ]
  },
  {
   "cell_type": "code",
   "execution_count": null,
   "id": "0d728767",
   "metadata": {},
   "outputs": [],
   "source": []
  }
 ],
 "metadata": {
  "kernelspec": {
   "display_name": "Julia 1.9.3",
   "language": "julia",
   "name": "julia-1.9"
  },
  "language_info": {
   "file_extension": ".jl",
   "mimetype": "application/julia",
   "name": "julia",
   "version": "1.9.3"
  }
 },
 "nbformat": 4,
 "nbformat_minor": 5
}
