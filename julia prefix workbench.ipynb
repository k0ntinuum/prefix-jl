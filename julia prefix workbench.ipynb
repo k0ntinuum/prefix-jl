{
 "cells": [
  {
   "cell_type": "code",
   "execution_count": 217,
   "id": "e3bd4f35",
   "metadata": {},
   "outputs": [
    {
     "data": {
      "text/plain": [
       "4-element Vector{Vector{Vector{Int64}}}:\n",
       " [[1, 1], [1, 0]]\n",
       " [[0], [1]]\n",
       " [[0], [1, 1]]\n",
       " [[0, 0], [0, 1]]"
      ]
     },
     "execution_count": 217,
     "metadata": {},
     "output_type": "execute_result"
    }
   ],
   "source": [
    "using Printf\n",
    "const word = Array{Int64}\n",
    "  \n",
    "goes = [ \n",
    "    [1,4],\n",
    "    [3,2],\n",
    "    [1,3],\n",
    "    [4,2], \n",
    "]\n",
    "\n",
    "writes = \n",
    "[ \n",
    "    [[1,1],[1,0]],\n",
    "    [[0],[1]],\n",
    "    [[0],[1,1]],\n",
    "    [[0,0],[0,1]],\n",
    "]\n"
   ]
  },
  {
   "cell_type": "code",
   "execution_count": 232,
   "id": "4be2661f",
   "metadata": {},
   "outputs": [
    {
     "data": {
      "text/plain": [
       "as_string (generic function with 1 method)"
      ]
     },
     "execution_count": 232,
     "metadata": {},
     "output_type": "execute_result"
    }
   ],
   "source": [
    "function as_string(v)\n",
    "    s = \"\"\n",
    "    for i in eachindex(v)\n",
    "        s *= alph[v[i] + 1]\n",
    "    end\n",
    "    s\n",
    "end"
   ]
  },
  {
   "cell_type": "code",
   "execution_count": 261,
   "id": "81d55c1b",
   "metadata": {},
   "outputs": [
    {
     "data": {
      "text/plain": [
       "print_key_f (generic function with 1 method)"
      ]
     },
     "execution_count": 261,
     "metadata": {},
     "output_type": "execute_result"
    }
   ],
   "source": [
    " function print_key(writes, goes)\n",
    "    for i in eachindex(goes)\n",
    "        for j in eachindex(goes[i])\n",
    "            @printf(\"%2d  %2d  %-4s %2d  \\n\", i - 1,j - 1,as_string(writes[i][j]) ,goes[i][j] - 1)\n",
    "        end\n",
    "        print('\\n')\n",
    "    end\n",
    "end\n",
    "\n",
    " function print_key_brief(writes, goes)\n",
    "    for i in eachindex(goes)\n",
    "        for j in eachindex(goes[i])\n",
    "            @printf(\"%-s %2d  \\n\",as_string(writes[i][j]) ,goes[i][j] - 1)\n",
    "        end\n",
    "        print('\\n')\n",
    "    end\n",
    "end\n",
    "\n",
    " function print_key_f(writes, goes)\n",
    "    for i in eachindex(goes)\n",
    "        for j in eachindex(goes[i])\n",
    "            @printf(\"f  %2d  %-2d     =     %-5s%3d  \\n\",\n",
    "                i - 1,j - 1,as_string(writes[i][j]) ,goes[i][j] - 1)\n",
    "        end\n",
    "        print('\\n')\n",
    "    end\n",
    "end"
   ]
  },
  {
   "cell_type": "code",
   "execution_count": 233,
   "id": "feea72e8",
   "metadata": {},
   "outputs": [
    {
     "data": {
      "text/plain": [
       "\"O|\""
      ]
     },
     "execution_count": 233,
     "metadata": {},
     "output_type": "execute_result"
    }
   ],
   "source": [
    "as_string([0,1])"
   ]
  },
  {
   "cell_type": "code",
   "execution_count": 200,
   "id": "c0daf6d7",
   "metadata": {},
   "outputs": [
    {
     "data": {
      "text/plain": [
       "print_vec (generic function with 1 method)"
      ]
     },
     "execution_count": 200,
     "metadata": {},
     "output_type": "execute_result"
    }
   ],
   "source": [
    "alph = ['O','|']\n",
    "function print_vec(v)\n",
    "    for i in eachindex(v)\n",
    "        print(alph[v[i] + 1])\n",
    "    end\n",
    "    print('\\n')\n",
    "end"
   ]
  },
  {
   "cell_type": "code",
   "execution_count": 262,
   "id": "a8caf08d",
   "metadata": {},
   "outputs": [
    {
     "name": "stdout",
     "output_type": "stream",
     "text": [
      "f   0  0      =     ||     0  \n",
      "f   0  1      =     |O     3  \n",
      "\n",
      "f   1  0      =     O      2  \n",
      "f   1  1      =     |      1  \n",
      "\n",
      "f   2  0      =     O      0  \n",
      "f   2  1      =     ||     2  \n",
      "\n",
      "f   3  0      =     OO     3  \n",
      "f   3  1      =     O|     1  \n",
      "\n"
     ]
    }
   ],
   "source": [
    "print_key_f(writes,goes)"
   ]
  },
  {
   "cell_type": "code",
   "execution_count": 202,
   "id": "b7fba80e",
   "metadata": {},
   "outputs": [
    {
     "data": {
      "text/plain": [
       "prefix (generic function with 1 method)"
      ]
     },
     "execution_count": 202,
     "metadata": {},
     "output_type": "execute_result"
    }
   ],
   "source": [
    "function prefix(p :: word, q :: word)\n",
    "    if length(q) < length(p) return false end\n",
    "    for i in eachindex(p)\n",
    "        if p[i] != q[i] return false end\n",
    "    end\n",
    "    true\n",
    "end\n",
    "            "
   ]
  },
  {
   "cell_type": "code",
   "execution_count": 203,
   "id": "27e568cd",
   "metadata": {},
   "outputs": [
    {
     "data": {
      "text/plain": [
       "encode (generic function with 1 method)"
      ]
     },
     "execution_count": 203,
     "metadata": {},
     "output_type": "execute_result"
    }
   ],
   "source": [
    "function encode(p)\n",
    "    c :: word = []\n",
    "    m = 1\n",
    "    for i in eachindex(p)\n",
    "        append!(c,writes[m][p[i]+1])\n",
    "        m = goes[m][p[i]+1]\n",
    "    end\n",
    "    c\n",
    "end\n",
    "        "
   ]
  },
  {
   "cell_type": "code",
   "execution_count": 204,
   "id": "f90de539",
   "metadata": {},
   "outputs": [
    {
     "data": {
      "text/plain": [
       "decode (generic function with 1 method)"
      ]
     },
     "execution_count": 204,
     "metadata": {},
     "output_type": "execute_result"
    }
   ],
   "source": [
    "function inverted_prefix(c,m)\n",
    "    for j in eachindex(writes[m])\n",
    "        if prefix(writes[m][j],c)\n",
    "            return (j - 1, goes[m][j], length(writes[m][j]))\n",
    "        end\n",
    "    end\n",
    "    throw(\"failed to find prefix\")\n",
    "end\n",
    "    \n",
    "function decode(c)\n",
    "    p :: word = []\n",
    "    m = 1\n",
    "    i = 1\n",
    "    while i <= length(c)\n",
    "        (j,m,l) = inverted_prefix(c[i:end],m)\n",
    "        append!(p,j)\n",
    "        i += l\n",
    "    end\n",
    "    p\n",
    "end\n",
    "            \n",
    "        \n"
   ]
  },
  {
   "cell_type": "code",
   "execution_count": 205,
   "id": "7d9465b4",
   "metadata": {},
   "outputs": [
    {
     "data": {
      "text/plain": [
       "true"
      ]
     },
     "execution_count": 205,
     "metadata": {},
     "output_type": "execute_result"
    }
   ],
   "source": [
    "p = rand([0,1],80)\n",
    "p ==  decode(encode(p))"
   ]
  },
  {
   "cell_type": "code",
   "execution_count": 206,
   "id": "8e30f79c",
   "metadata": {},
   "outputs": [
    {
     "data": {
      "text/plain": [
       "2"
      ]
     },
     "execution_count": 206,
     "metadata": {},
     "output_type": "execute_result"
    }
   ],
   "source": [
    "goes[4][2]"
   ]
  },
  {
   "cell_type": "code",
   "execution_count": 207,
   "id": "c45f4c2f",
   "metadata": {},
   "outputs": [
    {
     "data": {
      "text/plain": [
       "2"
      ]
     },
     "execution_count": 207,
     "metadata": {},
     "output_type": "execute_result"
    }
   ],
   "source": [
    "a"
   ]
  },
  {
   "cell_type": "code",
   "execution_count": 263,
   "id": "e0f7883b",
   "metadata": {},
   "outputs": [
    {
     "name": "stdout",
     "output_type": "stream",
     "text": [
      "OO||||||||O|||||OOO||||\n",
      "|||||OO|||||||O||||||||||O|||||OO|||\n",
      "OO||||||||O|||||OOO||||\n"
     ]
    }
   ],
   "source": [
    "p = rand([0,1],23)\n",
    "c = encode(p)\n",
    "d= decode(c)\n",
    "print_vec(p)\n",
    "print_vec(c)\n",
    "print_vec(d)"
   ]
  },
  {
   "cell_type": "code",
   "execution_count": 209,
   "id": "ae67d324",
   "metadata": {},
   "outputs": [
    {
     "ename": "LoadError",
     "evalue": "\"error\"",
     "output_type": "error",
     "traceback": [
      "\"error\"",
      "",
      "Stacktrace:",
      " [1] top-level scope",
      "   @ In[209]:1"
     ]
    }
   ],
   "source": [
    "throw(\"error\")"
   ]
  },
  {
   "cell_type": "code",
   "execution_count": 264,
   "id": "e6c58a9e",
   "metadata": {},
   "outputs": [
    {
     "data": {
      "text/plain": [
       "roll_mode (generic function with 1 method)"
      ]
     },
     "execution_count": 264,
     "metadata": {},
     "output_type": "execute_result"
    }
   ],
   "source": [
    "function roll_mode(m,i,n)\n",
    "    for j in eachindex(writes[m])\n",
    "        for k in eachindex(writes[m][j])\n",
    "            writes[m][j][k] =  (writes[m][j][k] + i) % n\n",
    "        end\n",
    "    end\n",
    "end\n",
    "    "
   ]
  },
  {
   "cell_type": "code",
   "execution_count": 265,
   "id": "b930fc4a",
   "metadata": {},
   "outputs": [
    {
     "data": {
      "text/plain": [
       "4-element Vector{Vector{Vector{Int64}}}:\n",
       " [[1, 1], [1, 0]]\n",
       " [[0], [1]]\n",
       " [[0], [1, 1]]\n",
       " [[0, 0], [0, 1]]"
      ]
     },
     "execution_count": 265,
     "metadata": {},
     "output_type": "execute_result"
    }
   ],
   "source": [
    "writes"
   ]
  },
  {
   "cell_type": "code",
   "execution_count": 266,
   "id": "2e06e164",
   "metadata": {},
   "outputs": [
    {
     "data": {
      "text/plain": [
       "2-element Vector{Vector{Int64}}:\n",
       " [1, 1]\n",
       " [1, 0]"
      ]
     },
     "execution_count": 266,
     "metadata": {},
     "output_type": "execute_result"
    }
   ],
   "source": [
    "writes[1]"
   ]
  },
  {
   "cell_type": "code",
   "execution_count": 272,
   "id": "649ac9c6",
   "metadata": {},
   "outputs": [],
   "source": [
    "roll_mode(2,1,2)"
   ]
  },
  {
   "cell_type": "code",
   "execution_count": 273,
   "id": "120394e6",
   "metadata": {},
   "outputs": [
    {
     "data": {
      "text/plain": [
       "2-element Vector{Vector{Int64}}:\n",
       " [0]\n",
       " [1]"
      ]
     },
     "execution_count": 273,
     "metadata": {},
     "output_type": "execute_result"
    }
   ],
   "source": [
    "writes[2]"
   ]
  },
  {
   "cell_type": "code",
   "execution_count": 274,
   "id": "0b4a7eaf",
   "metadata": {},
   "outputs": [
    {
     "data": {
      "text/plain": [
       "2"
      ]
     },
     "execution_count": 274,
     "metadata": {},
     "output_type": "execute_result"
    }
   ],
   "source": [
    "length(alph)"
   ]
  },
  {
   "cell_type": "code",
   "execution_count": null,
   "id": "a9c9436c",
   "metadata": {},
   "outputs": [],
   "source": []
  }
 ],
 "metadata": {
  "kernelspec": {
   "display_name": "Julia 1.9.3",
   "language": "julia",
   "name": "julia-1.9"
  },
  "language_info": {
   "file_extension": ".jl",
   "mimetype": "application/julia",
   "name": "julia",
   "version": "1.9.3"
  }
 },
 "nbformat": 4,
 "nbformat_minor": 5
}
