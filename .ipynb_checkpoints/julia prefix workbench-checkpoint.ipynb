{
 "cells": [
  {
   "cell_type": "code",
   "execution_count": 88,
   "id": "0c5f0ca5",
   "metadata": {},
   "outputs": [
    {
     "data": {
      "text/plain": [
       "2-element Vector{Vector{Int64}}:\n",
       " [1, 2]\n",
       " [1, 2]"
      ]
     },
     "execution_count": 88,
     "metadata": {},
     "output_type": "execute_result"
    }
   ],
   "source": [
    "const word = Array{Int64}\n",
    "writes = \n",
    "[ \n",
    "    [[1,1],[1,0]],\n",
    "    [[0],[1]],\n",
    "]   \n",
    "goes = [\n",
    "    [\n",
    "        [1,2],\n",
    "    ]\n",
    "    [\n",
    "        [1,2],\n",
    "    ]\n",
    "]"
   ]
  },
  {
   "cell_type": "code",
   "execution_count": 80,
   "id": "2e4b366c",
   "metadata": {},
   "outputs": [
    {
     "data": {
      "text/plain": [
       "2-element Vector{Vector{Vector{Vector{Int64}}}}:\n",
       " [[[1, 0], [1, 1]], [[0, 1], [0, 0]]]\n",
       " [[[1, 0], [1, 1]], [[0], [1]]]"
      ]
     },
     "execution_count": 80,
     "metadata": {},
     "output_type": "execute_result"
    }
   ],
   "source": []
  },
  {
   "cell_type": "code",
   "execution_count": 93,
   "id": "213d5f88",
   "metadata": {},
   "outputs": [
    {
     "data": {
      "text/plain": [
       "1"
      ]
     },
     "execution_count": 93,
     "metadata": {},
     "output_type": "execute_result"
    }
   ],
   "source": [
    "goes[2][1]"
   ]
  },
  {
   "cell_type": "code",
   "execution_count": 64,
   "id": "5f1068a5",
   "metadata": {},
   "outputs": [
    {
     "data": {
      "text/plain": [
       "prefix (generic function with 1 method)"
      ]
     },
     "execution_count": 64,
     "metadata": {},
     "output_type": "execute_result"
    }
   ],
   "source": [
    "function prefix(p :: word, q :: word)\n",
    "    if length(q) < length(p) return false end\n",
    "    for i in eachindex(p)\n",
    "        if p[i] != q[i] return false end\n",
    "    end\n",
    "    true\n",
    "end\n",
    "            "
   ]
  },
  {
   "cell_type": "code",
   "execution_count": 110,
   "id": "d25c0533",
   "metadata": {},
   "outputs": [
    {
     "data": {
      "text/plain": [
       "encode (generic function with 1 method)"
      ]
     },
     "execution_count": 110,
     "metadata": {},
     "output_type": "execute_result"
    }
   ],
   "source": [
    "function encode(p)\n",
    "    c :: word = []\n",
    "    m = 1\n",
    "    for i in eachindex(p)\n",
    "        append!(c,writes[m][p[i]+1])\n",
    "        m = goes[m][p[i]+1]\n",
    "    end\n",
    "    c\n",
    "end\n",
    "        "
   ]
  },
  {
   "cell_type": "code",
   "execution_count": 128,
   "id": "80a7119b",
   "metadata": {},
   "outputs": [
    {
     "data": {
      "text/plain": [
       "decode (generic function with 1 method)"
      ]
     },
     "execution_count": 128,
     "metadata": {},
     "output_type": "execute_result"
    }
   ],
   "source": [
    "function decode(c)\n",
    "    p :: word = []\n",
    "    m = 1\n",
    "    i = 1\n",
    "    while i <= length(c)\n",
    "        for j in eachindex(writes[m])\n",
    "            if prefix(writes[m][j],c[i:end])\n",
    "                append!(p,j)\n",
    "                m = goes[m][j]\n",
    "                i += length(writes[m][j])\n",
    "            end\n",
    "        end\n",
    "    end\n",
    "    p\n",
    "end\n",
    "            \n",
    "        \n"
   ]
  },
  {
   "cell_type": "code",
   "execution_count": 129,
   "id": "d45acb60",
   "metadata": {},
   "outputs": [
    {
     "ename": "LoadError",
     "evalue": "BoundsError: attempt to access 12-element Vector{Int64} at index [0:12]",
     "output_type": "error",
     "traceback": [
      "BoundsError: attempt to access 12-element Vector{Int64} at index [0:12]",
      "",
      "Stacktrace:",
      " [1] throw_boundserror(A::Vector{Int64}, I::Tuple{UnitRange{Int64}})",
      "   @ Base ./abstractarray.jl:744",
      " [2] checkbounds",
      "   @ ./abstractarray.jl:709 [inlined]",
      " [3] getindex(A::Vector{Int64}, I::UnitRange{Int64})",
      "   @ Base ./array.jl:921",
      " [4] decode(c::Vector{Int64})",
      "   @ Main ./In[128]:7",
      " [5] top-level scope",
      "   @ In[129]:1"
     ]
    }
   ],
   "source": [
    "decode(c)"
   ]
  },
  {
   "cell_type": "code",
   "execution_count": 116,
   "id": "9542e560",
   "metadata": {},
   "outputs": [
    {
     "data": {
      "text/plain": [
       "2"
      ]
     },
     "execution_count": 116,
     "metadata": {},
     "output_type": "execute_result"
    }
   ],
   "source": [
    "length(writes[2])"
   ]
  },
  {
   "cell_type": "code",
   "execution_count": 115,
   "id": "52824b50",
   "metadata": {},
   "outputs": [
    {
     "data": {
      "text/plain": [
       "2-element Vector{Vector{Int64}}:\n",
       " [1, 1]\n",
       " [1, 0]"
      ]
     },
     "execution_count": 115,
     "metadata": {},
     "output_type": "execute_result"
    }
   ],
   "source": [
    "writes[1]"
   ]
  },
  {
   "cell_type": "code",
   "execution_count": null,
   "id": "353922a5",
   "metadata": {},
   "outputs": [],
   "source": []
  }
 ],
 "metadata": {
  "kernelspec": {
   "display_name": "Julia 1.9.3",
   "language": "julia",
   "name": "julia-1.9"
  },
  "language_info": {
   "file_extension": ".jl",
   "mimetype": "application/julia",
   "name": "julia",
   "version": "1.9.3"
  }
 },
 "nbformat": 4,
 "nbformat_minor": 5
}
